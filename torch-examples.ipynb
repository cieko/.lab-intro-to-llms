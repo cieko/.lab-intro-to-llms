{
 "cells": [
  {
   "cell_type": "code",
   "execution_count": 1,
   "id": "18dba9c2-bf55-4e90-96a5-4f41e89cc9ff",
   "metadata": {},
   "outputs": [
    {
     "name": "stdout",
     "output_type": "stream",
     "text": [
      "cuda\n"
     ]
    }
   ],
   "source": [
    "import torch\n",
    "import torch.nn as nn\n",
    "from torch.nn import functional as F\n",
    "import numpy as np\n",
    "import time\n",
    "\n",
    "device = 'cuda' if torch.cuda.is_available() else 'cpu'\n",
    "print(device)"
   ]
  },
  {
   "cell_type": "code",
   "execution_count": 2,
   "id": "bf3c3170-0674-439d-aadc-7ee0f7971394",
   "metadata": {},
   "outputs": [
    {
     "data": {
      "text/plain": [
       "tensor([ 52,  20,  23,  97,  95, -28])"
      ]
     },
     "execution_count": 2,
     "metadata": {},
     "output_type": "execute_result"
    }
   ],
   "source": [
    "randint = torch.randint(-100, 100, (6,))\n",
    "randint"
   ]
  },
  {
   "cell_type": "code",
   "execution_count": 3,
   "id": "26bcbc16-5e2e-4ee5-a2a8-d91e7b317ea2",
   "metadata": {},
   "outputs": [
    {
     "data": {
      "text/plain": [
       "tensor([[0.1000, 0.2000],\n",
       "        [2.2000, 3.1000],\n",
       "        [4.9000, 5.2000]])"
      ]
     },
     "execution_count": 3,
     "metadata": {},
     "output_type": "execute_result"
    }
   ],
   "source": [
    "tensor = torch.tensor([[0.1, 0.2], [2.2, 3.1], [4.9, 5.2]])\n",
    "tensor"
   ]
  },
  {
   "cell_type": "code",
   "execution_count": 4,
   "id": "2f5e57a4-722b-41e2-a492-fc3cb887cf94",
   "metadata": {},
   "outputs": [],
   "source": [
    "zeros = torch.zeros(2, 3)"
   ]
  },
  {
   "cell_type": "code",
   "execution_count": 5,
   "id": "7a12c001-ae0b-48ab-aa32-697d31c6ecd9",
   "metadata": {},
   "outputs": [
    {
     "data": {
      "text/plain": [
       "tensor([[0., 0., 0.],\n",
       "        [0., 0., 0.]])"
      ]
     },
     "execution_count": 5,
     "metadata": {},
     "output_type": "execute_result"
    }
   ],
   "source": [
    "zeros"
   ]
  },
  {
   "cell_type": "code",
   "execution_count": 6,
   "id": "80a4e97d-2d03-4d8c-ad62-0fe5538abc23",
   "metadata": {},
   "outputs": [
    {
     "data": {
      "text/plain": [
       "tensor([[1., 1., 1., 1.],\n",
       "        [1., 1., 1., 1.],\n",
       "        [1., 1., 1., 1.]])"
      ]
     },
     "execution_count": 6,
     "metadata": {},
     "output_type": "execute_result"
    }
   ],
   "source": [
    "ones = torch.ones(3, 4)\n",
    "ones"
   ]
  },
  {
   "cell_type": "code",
   "execution_count": 7,
   "id": "4483c7d3-12bc-435a-bc2d-dfddf219bd85",
   "metadata": {},
   "outputs": [],
   "source": [
    "input = torch.empty(2, 3)"
   ]
  },
  {
   "cell_type": "code",
   "execution_count": 8,
   "id": "2383c1b8-d37f-497f-a617-83927b245439",
   "metadata": {},
   "outputs": [
    {
     "data": {
      "text/plain": [
       "tensor([[0., 0., 0.],\n",
       "        [0., 0., 0.]])"
      ]
     },
     "execution_count": 8,
     "metadata": {},
     "output_type": "execute_result"
    }
   ],
   "source": [
    "input"
   ]
  },
  {
   "cell_type": "code",
   "execution_count": 9,
   "id": "95c055c5-1502-4658-b7f8-c8a7d4264eb2",
   "metadata": {},
   "outputs": [
    {
     "data": {
      "text/plain": [
       "tensor([0, 1, 2, 3, 4])"
      ]
     },
     "execution_count": 9,
     "metadata": {},
     "output_type": "execute_result"
    }
   ],
   "source": [
    "arange = torch.arange(5)\n",
    "arange"
   ]
  },
  {
   "cell_type": "code",
   "execution_count": 10,
   "id": "3159aae9-49a8-4fee-acdc-08c7a8d6b377",
   "metadata": {},
   "outputs": [
    {
     "data": {
      "text/plain": [
       "tensor([ 3.0000,  4.7500,  6.5000,  8.2500, 10.0000])"
      ]
     },
     "execution_count": 10,
     "metadata": {},
     "output_type": "execute_result"
    }
   ],
   "source": [
    "linspace = torch.linspace(3, 10, steps=5)\n",
    "linspace"
   ]
  },
  {
   "cell_type": "code",
   "execution_count": 11,
   "id": "0538613f-fb3f-43b1-b5f4-a1e054f5e2d6",
   "metadata": {},
   "outputs": [
    {
     "data": {
      "text/plain": [
       "tensor([1.0000e-10, 1.0000e-05, 1.0000e+00, 1.0000e+05, 1.0000e+10])"
      ]
     },
     "execution_count": 11,
     "metadata": {},
     "output_type": "execute_result"
    }
   ],
   "source": [
    "logspace = torch.logspace(start=-10, end=10, steps=5)\n",
    "logspace"
   ]
  },
  {
   "cell_type": "code",
   "execution_count": 12,
   "id": "c7dc2143-dd26-40d5-a4df-26e5718ef0df",
   "metadata": {},
   "outputs": [
    {
     "data": {
      "text/plain": [
       "tensor([[1., 0., 0., 0., 0.],\n",
       "        [0., 1., 0., 0., 0.],\n",
       "        [0., 0., 1., 0., 0.],\n",
       "        [0., 0., 0., 1., 0.],\n",
       "        [0., 0., 0., 0., 1.]])"
      ]
     },
     "execution_count": 12,
     "metadata": {},
     "output_type": "execute_result"
    }
   ],
   "source": [
    "eye = torch.eye(5)\n",
    "eye"
   ]
  },
  {
   "cell_type": "code",
   "execution_count": 13,
   "id": "9498b1f9-1f38-4b32-b2df-15a18cc0f9d6",
   "metadata": {},
   "outputs": [
    {
     "data": {
      "text/plain": [
       "tensor([[124324967198096, 124324967198096,     -4294967295],\n",
       "        [    12884901888,              10,             145]])"
      ]
     },
     "execution_count": 13,
     "metadata": {},
     "output_type": "execute_result"
    }
   ],
   "source": [
    "a = torch.empty((2, 3), dtype=torch.int64)\n",
    "empty_like = torch.empty_like(a)\n",
    "empty_like"
   ]
  },
  {
   "cell_type": "code",
   "execution_count": 15,
   "id": "c367d0f9-e4c4-41d2-9d19-21ea285d55e0",
   "metadata": {},
   "outputs": [
    {
     "name": "stdout",
     "output_type": "stream",
     "text": [
      "tensor([[0.3364, 0.7766, 0.1730, 0.8641, 0.1334, 0.4765, 0.2879, 0.4169, 0.7875,\n",
      "         0.7830],\n",
      "        [0.5849, 0.8984, 0.8832, 0.0440, 0.5878, 0.7627, 0.0816, 0.6206, 0.8622,\n",
      "         0.9983],\n",
      "        [0.4870, 0.1551, 0.8898, 0.5900, 0.8878, 0.7745, 0.5786, 0.3917, 0.5515,\n",
      "         0.7936],\n",
      "        [0.0672, 0.5360, 0.2252, 0.4289, 0.1292, 0.6597, 0.0098, 0.8413, 0.0232,\n",
      "         0.5026],\n",
      "        [0.7987, 0.3907, 0.5810, 0.8874, 0.7846, 0.3296, 0.5077, 0.5622, 0.9488,\n",
      "         0.2472],\n",
      "        [0.7450, 0.9163, 0.4973, 0.3571, 0.8972, 0.3474, 0.1272, 0.1518, 0.9931,\n",
      "         0.1578],\n",
      "        [0.3219, 0.4399, 0.2938, 0.4652, 0.1954, 0.7273, 0.2703, 0.8608, 0.8694,\n",
      "         0.7185],\n",
      "        [0.8948, 0.1022, 0.0685, 0.7957, 0.7865, 0.9666, 0.9939, 0.5573, 0.9300,\n",
      "         0.8855],\n",
      "        [0.4094, 0.5655, 0.0480, 0.6185, 0.2699, 0.2281, 0.7310, 0.3367, 0.7687,\n",
      "         0.0953],\n",
      "        [0.2066, 0.4946, 0.6909, 0.6984, 0.8955, 0.3214, 0.1153, 0.2228, 0.5389,\n",
      "         0.0960],\n",
      "        [0.6519, 0.4412, 0.1239, 0.0975, 0.2661, 0.1695, 0.3445, 0.6658, 0.0416,\n",
      "         0.6243],\n",
      "        [0.9211, 0.1393, 0.5368, 0.9040, 0.9735, 0.1727, 0.7105, 0.0415, 0.3312,\n",
      "         0.4571],\n",
      "        [0.6638, 0.1297, 0.0379, 0.3707, 0.4423, 0.4811, 0.4388, 0.9632, 0.2405,\n",
      "         0.6894],\n",
      "        [0.4018, 0.1506, 0.6256, 0.4801, 0.9647, 0.2660, 0.4876, 0.6949, 0.3761,\n",
      "         0.5167],\n",
      "        [0.1226, 0.9019, 0.4722, 0.9474, 0.2424, 0.9948, 0.5966, 0.6700, 0.8851,\n",
      "         0.7982],\n",
      "        [0.0105, 0.1341, 0.0180, 0.1742, 0.3873, 0.3291, 0.1316, 0.9904, 0.4252,\n",
      "         0.3090],\n",
      "        [0.6464, 0.1928, 0.5228, 0.3634, 0.8553, 0.7028, 0.3084, 0.9930, 0.1295,\n",
      "         0.8276],\n",
      "        [0.7874, 0.4897, 0.8018, 0.4381, 0.2037, 0.7692, 0.1465, 0.9798, 0.2544,\n",
      "         0.5489],\n",
      "        [0.3083, 0.2514, 0.0850, 0.7964, 0.2375, 0.2716, 0.0445, 0.5484, 0.1050,\n",
      "         0.5529],\n",
      "        [0.0053, 0.4746, 0.7559, 0.8089, 0.3540, 0.1761, 0.3432, 0.9518, 0.7549,\n",
      "         0.8189],\n",
      "        [0.6117, 0.2578, 0.1453, 0.9547, 0.0962, 0.1718, 0.9070, 0.1124, 0.7935,\n",
      "         0.8901],\n",
      "        [0.5843, 0.1774, 0.5088, 0.8891, 0.7020, 0.3812, 0.3599, 0.2670, 0.7540,\n",
      "         0.7966],\n",
      "        [0.2397, 0.9748, 0.2395, 0.9545, 0.9752, 0.3071, 0.4875, 0.5955, 0.5799,\n",
      "         0.2864],\n",
      "        [0.3137, 0.5105, 0.6367, 0.3051, 0.1846, 0.7266, 0.6632, 0.1757, 0.7489,\n",
      "         0.4211],\n",
      "        [0.5041, 0.2783, 0.2226, 0.9522, 0.6823, 0.4922, 0.1053, 0.1685, 0.2086,\n",
      "         0.1676],\n",
      "        [0.8525, 0.5460, 0.4498, 0.8627, 0.2196, 0.2706, 0.8503, 0.6289, 0.0731,\n",
      "         0.6036],\n",
      "        [0.0681, 0.1397, 0.6050, 0.6055, 0.4852, 0.4447, 0.3465, 0.9456, 0.7739,\n",
      "         0.8778],\n",
      "        [0.4940, 0.6155, 0.1319, 0.7131, 0.5829, 0.4118, 0.8076, 0.1646, 0.6616,\n",
      "         0.1963],\n",
      "        [0.6893, 0.1706, 0.1989, 0.1697, 0.8408, 0.9970, 0.8575, 0.5739, 0.5715,\n",
      "         0.7832],\n",
      "        [0.2603, 0.5798, 0.7853, 0.8714, 0.7103, 0.4548, 0.3314, 0.6114, 0.2359,\n",
      "         0.3713],\n",
      "        [0.7046, 0.8039, 0.8555, 0.9697, 0.9368, 0.7182, 0.9587, 0.0565, 0.5320,\n",
      "         0.6846],\n",
      "        [0.0907, 0.2102, 0.9719, 0.7137, 0.5423, 0.0156, 0.7974, 0.9406, 0.5281,\n",
      "         0.0802]])\n",
      "tensor([0.0907, 0.2102, 0.9719, 0.7137, 0.5423, 0.0156, 0.7974, 0.9406, 0.5281,\n",
      "        0.0802])\n"
     ]
    }
   ],
   "source": [
    "input = torch.rand((4, 8, 10))\n",
    "B, T, C = input.shape\n",
    "output = input.view(B*T, C)\n",
    "print(output)\n",
    "# print(input)\n",
    "# print(output[:, -1, :])\n",
    "print(output[-1, :])\n"
   ]
  },
  {
   "cell_type": "code",
   "execution_count": 23,
   "id": "1b00bad3-8382-4bf4-aee7-821f6106bf4c",
   "metadata": {},
   "outputs": [
    {
     "name": "stdout",
     "output_type": "stream",
     "text": [
      "tensor([0.])\n",
      "tensor([0.2994])\n"
     ]
    }
   ],
   "source": [
    "x = torch.tensor([-0.85], dtype=torch.float32)\n",
    "y1 = nn.ReLU()(x)\n",
    "y2 = F.sigmoid(x)\n",
    "print(y1)\n",
    "print(y2)"
   ]
  },
  {
   "cell_type": "code",
   "execution_count": null,
   "id": "d75272a0-0b7b-4b95-b761-8ee7a525f292",
   "metadata": {},
   "outputs": [],
   "source": []
  },
  {
   "cell_type": "code",
   "execution_count": null,
   "id": "9836d76b-8a60-45c8-a4dc-d01493b03436",
   "metadata": {},
   "outputs": [],
   "source": []
  },
  {
   "cell_type": "code",
   "execution_count": null,
   "id": "e2072e00-0c8b-4b51-9d5d-cd508c154b6d",
   "metadata": {},
   "outputs": [],
   "source": []
  },
  {
   "cell_type": "code",
   "execution_count": null,
   "id": "23057281-4cbb-4233-b2cf-40b3e90b143c",
   "metadata": {},
   "outputs": [],
   "source": []
  },
  {
   "cell_type": "code",
   "execution_count": null,
   "id": "6d3ab5ac-0248-4c8d-a413-4ade3a620c2c",
   "metadata": {},
   "outputs": [],
   "source": []
  },
  {
   "cell_type": "code",
   "execution_count": null,
   "id": "64035fcf-340f-40c9-9ccd-e904f1299c32",
   "metadata": {},
   "outputs": [],
   "source": []
  },
  {
   "cell_type": "code",
   "execution_count": null,
   "id": "b6cadcaa-d395-4ca2-9430-231deaf4ee4f",
   "metadata": {},
   "outputs": [],
   "source": []
  },
  {
   "cell_type": "code",
   "execution_count": null,
   "id": "4e3d2cd4-1bf7-477e-8eaf-8ca2bc16a695",
   "metadata": {},
   "outputs": [],
   "source": []
  },
  {
   "cell_type": "code",
   "execution_count": null,
   "id": "baa6462d-8f68-4404-88f6-cd8a5280c968",
   "metadata": {},
   "outputs": [],
   "source": []
  }
 ],
 "metadata": {
  "kernelspec": {
   "display_name": "Python 3 (ipykernel)",
   "language": "python",
   "name": "python3"
  },
  "language_info": {
   "codemirror_mode": {
    "name": "ipython",
    "version": 3
   },
   "file_extension": ".py",
   "mimetype": "text/x-python",
   "name": "python",
   "nbconvert_exporter": "python",
   "pygments_lexer": "ipython3",
   "version": "3.10.15"
  }
 },
 "nbformat": 4,
 "nbformat_minor": 5
}
