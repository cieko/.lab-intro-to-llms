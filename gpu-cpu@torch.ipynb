{
 "cells": [
  {
   "cell_type": "code",
   "execution_count": 34,
   "id": "204208b8-4645-456e-be6a-e2ceb2a7fbe5",
   "metadata": {},
   "outputs": [
    {
     "data": {
      "text/plain": [
       "'cuda'"
      ]
     },
     "execution_count": 34,
     "metadata": {},
     "output_type": "execute_result"
    }
   ],
   "source": [
    "import torch\n",
    "device = 'cuda' if torch.cuda.is_available() else 'cpu'\n",
    "device"
   ]
  },
  {
   "cell_type": "code",
   "execution_count": 35,
   "id": "c5605e37-accd-46e7-8be2-e271c2d0893d",
   "metadata": {},
   "outputs": [],
   "source": [
    "import warnings\n",
    "warnings.filterwarnings(\"ignore\", category=DeprecationWarning)\n",
    "\n",
    "# to suppress the warning"
   ]
  },
  {
   "cell_type": "code",
   "execution_count": 36,
   "id": "9a879c5e-aec2-457f-abb0-5740052464ed",
   "metadata": {},
   "outputs": [],
   "source": [
    "import numpy as np\n",
    "import time"
   ]
  },
  {
   "cell_type": "code",
   "execution_count": 37,
   "id": "4756a89c-31bb-4ed7-91df-267daa9d3418",
   "metadata": {},
   "outputs": [
    {
     "name": "stdout",
     "output_type": "stream",
     "text": [
      "0.0001\n"
     ]
    }
   ],
   "source": [
    "start_time = time.time()\n",
    "# matrix operation here\n",
    "zeros = torch.zeros(1, 1)\n",
    "end_time = time.time()\n",
    "\n",
    "elapsed_time = end_time - start_time\n",
    "print(f\"{elapsed_time:.4f}\")"
   ]
  },
  {
   "cell_type": "code",
   "execution_count": 42,
   "id": "3e33a6eb-8b8d-4510-8c57-e99cefa08041",
   "metadata": {},
   "outputs": [
    {
     "name": "stdout",
     "output_type": "stream",
     "text": [
      "torch-matrix-1: \n",
      "tensor([[0.0642, 0.0590, 0.8386,  ..., 0.0118, 0.4085, 0.8018],\n",
      "        [0.3036, 0.6677, 0.2681,  ..., 0.0047, 0.1100, 0.6418],\n",
      "        [0.1138, 0.0801, 0.4125,  ..., 0.4366, 0.2057, 0.0675],\n",
      "        ...,\n",
      "        [0.0552, 0.4877, 0.7590,  ..., 0.0276, 0.3353, 0.5933],\n",
      "        [0.4009, 0.1717, 0.2892,  ..., 0.1820, 0.5961, 0.9201],\n",
      "        [0.5836, 0.9140, 0.9973,  ..., 0.9694, 0.7317, 0.0429]],\n",
      "       device='cuda:0')\n",
      "torch-matrix-2: \n",
      "tensor([[0.4275, 0.6998, 0.7125,  ..., 0.9286, 0.5175, 0.8413],\n",
      "        [0.7971, 0.6288, 0.2626,  ..., 0.7501, 0.0344, 0.9620],\n",
      "        [0.4007, 0.7767, 0.8580,  ..., 0.9741, 0.8072, 0.2429],\n",
      "        ...,\n",
      "        [0.8175, 0.0696, 0.8103,  ..., 0.9502, 0.1846, 0.2304],\n",
      "        [0.6804, 0.6768, 0.2484,  ..., 0.7927, 0.9919, 0.2091],\n",
      "        [0.4051, 0.0201, 0.2580,  ..., 0.4134, 0.0084, 0.5318]],\n",
      "       device='cuda:0')\n",
      "np-matrix-1: \n",
      "tensor([[1.3501e-01, 8.2535e-01, 7.0959e-01,  ..., 5.3178e-02, 5.4181e-04,\n",
      "         2.5687e-01],\n",
      "        [7.3115e-01, 5.1963e-01, 5.2071e-01,  ..., 9.6791e-01, 3.4340e-01,\n",
      "         9.6257e-01],\n",
      "        [1.6507e-01, 4.7535e-01, 2.8345e-01,  ..., 4.4999e-01, 9.2206e-01,\n",
      "         4.0414e-01],\n",
      "        ...,\n",
      "        [9.3558e-01, 4.8151e-01, 8.3692e-01,  ..., 9.8221e-01, 9.7603e-01,\n",
      "         6.9170e-01],\n",
      "        [9.0271e-01, 6.0505e-01, 1.3287e-01,  ..., 1.0274e-01, 1.7459e-01,\n",
      "         9.0922e-02],\n",
      "        [1.5869e-01, 6.5928e-01, 5.4600e-01,  ..., 1.5879e-01, 8.6803e-02,\n",
      "         9.1431e-01]])\n",
      "np-matrix-2: \n",
      "tensor([[0.7545, 0.0461, 0.3160,  ..., 0.4584, 0.9199, 0.9090],\n",
      "        [0.9892, 0.9177, 0.2412,  ..., 0.1479, 0.1663, 0.7488],\n",
      "        [0.9263, 0.2895, 0.9530,  ..., 0.9578, 0.4819, 0.6584],\n",
      "        ...,\n",
      "        [0.1794, 0.9167, 0.5927,  ..., 0.3651, 0.4580, 0.6990],\n",
      "        [0.2440, 0.3147, 0.4324,  ..., 0.3633, 0.1675, 0.0952],\n",
      "        [0.0751, 0.8985, 0.0372,  ..., 0.1673, 0.0096, 0.0846]])\n",
      "tensor([[2503.9697, 2481.3491, 2489.0986,  ..., 2489.8086, 2463.7273,\n",
      "         2491.5317],\n",
      "        [2475.6331, 2453.7300, 2468.1172,  ..., 2468.7480, 2459.3728,\n",
      "         2465.2480],\n",
      "        [2480.0227, 2473.1597, 2475.6201,  ..., 2481.3481, 2441.6912,\n",
      "         2471.2686],\n",
      "        ...,\n",
      "        [2507.4717, 2483.2078, 2480.7542,  ..., 2502.3264, 2486.4722,\n",
      "         2482.3979],\n",
      "        [2546.2241, 2502.5063, 2509.5925,  ..., 2533.9460, 2497.4460,\n",
      "         2528.6665],\n",
      "        [2488.3108, 2497.5122, 2474.8223,  ..., 2496.1272, 2473.8230,\n",
      "         2475.7463]], device='cuda:0') \n",
      "\n",
      "Time Elapse:  0.00119400\n",
      "tensor([[1.0187e-01, 3.8041e-02, 2.2424e-01,  ..., 2.4376e-02, 4.9841e-04,\n",
      "         2.3348e-01],\n",
      "        [7.2324e-01, 4.7686e-01, 1.2559e-01,  ..., 1.4315e-01, 5.7119e-02,\n",
      "         7.2082e-01],\n",
      "        [1.5291e-01, 1.3760e-01, 2.7012e-01,  ..., 4.3098e-01, 4.4437e-01,\n",
      "         2.6609e-01],\n",
      "        ...,\n",
      "        [1.6785e-01, 4.4139e-01, 4.9603e-01,  ..., 3.5863e-01, 4.4706e-01,\n",
      "         4.8349e-01],\n",
      "        [2.2029e-01, 1.9040e-01, 5.7456e-02,  ..., 3.7323e-02, 2.9241e-02,\n",
      "         8.6583e-03],\n",
      "        [1.1915e-02, 5.9238e-01, 2.0288e-02,  ..., 2.6570e-02, 8.3454e-04,\n",
      "         7.7340e-02]]) \n",
      "\n",
      "Time Elapse: 0.08296990\n"
     ]
    }
   ],
   "source": [
    "\n",
    "torch_rand1 = torch.rand(10000, 10000).to(device)\n",
    "torch_rand2 = torch.rand(10000, 10000).to(device)\n",
    "\n",
    "np_rand1 = torch.rand(10000, 10000)\n",
    "np_rand2 = torch.rand(10000, 10000)\n",
    "\n",
    "print(f\"torch-matrix-1: \\n{torch_rand1}\")\n",
    "print(f\"torch-matrix-2: \\n{torch_rand2}\")\n",
    "\n",
    "print(f\"np-matrix-1: \\n{np_rand1}\")\n",
    "print(f\"np-matrix-2: \\n{np_rand2}\")\n",
    "\n",
    "start_time = time.time()\n",
    "\n",
    "rand = (torch_rand1 @ torch_rand2)\n",
    "\n",
    "end_time = time.time()\n",
    "\n",
    "elapsed_time = end_time - start_time\n",
    "print(rand, '\\n')\n",
    "print(f\"Time Elapse: {elapsed_time: .8f}\")\n",
    "\n",
    "start_time = time.time()\n",
    "\n",
    "rand = np.multiply(np_rand1, np_rand2)\n",
    "end_time = time.time()\n",
    "elapsed_time = end_time - start_time\n",
    "print(rand, '\\n')\n",
    "print(f\"Time Elapse: {elapsed_time:.8f}\")"
   ]
  },
  {
   "cell_type": "code",
   "execution_count": 43,
   "id": "afe4a331-025d-4251-9200-c8781c0eb4cc",
   "metadata": {},
   "outputs": [
    {
     "name": "stdout",
     "output_type": "stream",
     "text": [
      "0.0002\n",
      "CPU times: user 0 ns, sys: 923 μs, total: 923 μs\n",
      "Wall time: 595 μs\n"
     ]
    }
   ],
   "source": [
    "%%time\n",
    "\n",
    "start_time = time.time()\n",
    "# matrix operation here\n",
    "zeros = torch.zeros(1, 1)\n",
    "end_time = time.time()\n",
    "\n",
    "elapsed_time = end_time - start_time\n",
    "print(f\"{elapsed_time:.4f}\")"
   ]
  },
  {
   "cell_type": "markdown",
   "id": "324f520d-7f31-46b1-bf70-13b3c5e1460a",
   "metadata": {},
   "source": [
    "### using the time library to record execution time %%time to record the time taken for the cell to execute"
   ]
  },
  {
   "cell_type": "code",
   "execution_count": 52,
   "id": "1ef22a5d-8511-4f4e-a35a-ebf3bbd8ba2e",
   "metadata": {},
   "outputs": [
    {
     "name": "stdout",
     "output_type": "stream",
     "text": [
      "tensor([1, 1, 1, 1, 1, 1, 1, 0, 1, 1])\n"
     ]
    }
   ],
   "source": [
    "# torch.stack, torch.multinomial, torch.tril, torch.triu, input.T/ input.transpose, nn.linear, torch.cat, F.softmax \n",
    "# (show all the examples of functions / methods with pytorch docs)\n",
    "\n",
    "# define a probability tensor\n",
    "probabilities = torch.tensor([0.1, 0.9])\n",
    "# 10% or 0.1 => 0, 90% or 0.9 => 1. each probability points to the index of the probability in the tensor\n",
    "# Draw 5 samples from the multinomial distribution\n",
    "samples = torch.multinomial(probabilities, num_samples=10, replacement=True)\n",
    "print(samples)"
   ]
  },
  {
   "cell_type": "code",
   "execution_count": null,
   "id": "876b320d-4232-47ec-83f1-8debf15b9509",
   "metadata": {},
   "outputs": [],
   "source": []
  },
  {
   "cell_type": "code",
   "execution_count": null,
   "id": "b13e36c2-58ec-49f6-95ea-645600249885",
   "metadata": {},
   "outputs": [],
   "source": []
  },
  {
   "cell_type": "code",
   "execution_count": null,
   "id": "1c8b8fc1-c5bd-466f-886e-a7168b566407",
   "metadata": {},
   "outputs": [],
   "source": []
  },
  {
   "cell_type": "code",
   "execution_count": null,
   "id": "c8b3111a-a0d2-46e7-90a6-a4b89359638f",
   "metadata": {},
   "outputs": [],
   "source": []
  },
  {
   "cell_type": "code",
   "execution_count": null,
   "id": "a6a938da-8ba6-4ff1-9c43-a460009a4689",
   "metadata": {},
   "outputs": [],
   "source": []
  },
  {
   "cell_type": "code",
   "execution_count": null,
   "id": "f0c4dcbe-0563-4c83-895d-9b04238723c7",
   "metadata": {},
   "outputs": [],
   "source": []
  },
  {
   "cell_type": "code",
   "execution_count": null,
   "id": "d335a684-d1f5-43f5-b627-8648328b095d",
   "metadata": {},
   "outputs": [],
   "source": []
  }
 ],
 "metadata": {
  "kernelspec": {
   "display_name": "Cuda-gpt",
   "language": "python",
   "name": "cuda"
  },
  "language_info": {
   "codemirror_mode": {
    "name": "ipython",
    "version": 3
   },
   "file_extension": ".py",
   "mimetype": "text/x-python",
   "name": "python",
   "nbconvert_exporter": "python",
   "pygments_lexer": "ipython3",
   "version": "3.10.14"
  }
 },
 "nbformat": 4,
 "nbformat_minor": 5
}
